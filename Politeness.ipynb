{
  "cells": [
    {
      "cell_type": "markdown",
      "metadata": {
        "id": "S8tinZOUlDER"
      },
      "source": [
        "<div class=\"alert alert-block alert-danger\">\n",
        "\n",
        "# Politeness Strategies Extraction and Quantification\n",
        "    \n",
        "#### Student Name: Chak Shing, Yuen\n",
        "#### Student ID: 32331371\n",
        "\n",
        "Date: 14-May-2024\n",
        "\n",
        "Environment: Google Colab Python 3 Google Compute Engine backend"
      ]
    },
    {
      "cell_type": "markdown",
      "metadata": {
        "id": "xnnLnFnLlDEU"
      },
      "source": [
        "<div class=\"alert alert-block alert-info\">\n",
        "    \n",
        "## Table of Contents\n",
        "\n",
        "</div>\n",
        "\n",
        "[1. Politeness Extraction](#1) <br>\n",
        "$\\;\\;\\;\\;$[1.1. Import Libraries](#11) <br>\n",
        "$\\;\\;\\;\\;$[1.2. Load the data](#12) <br>\n",
        "$\\;\\;\\;\\;$[1.3. Functions](#13) <br>"
      ]
    },
    {
      "cell_type": "markdown",
      "source": [
        "<div class=\"alert alert-block alert-success\">\n",
        "    \n",
        "# 1. Convokit: Politeness Strategies Extraction and Classifier <a class=\"anchor\" name=\"1\"></a>"
      ],
      "metadata": {
        "id": "0G-N__UwMM0y"
      }
    },
    {
      "cell_type": "markdown",
      "source": [
        "<div class=\"alert alert-block alert-success\">\n",
        "    \n",
        "## 1.1. Import Libraries <a class=\"anchor\" name=\"11\"></a>"
      ],
      "metadata": {
        "id": "uZtKiD2DvzVH"
      }
    },
    {
      "cell_type": "code",
      "source": [
        "# pip install convokit"
      ],
      "metadata": {
        "id": "N_sPikh_whaW"
      },
      "execution_count": 1,
      "outputs": []
    },
    {
      "cell_type": "code",
      "source": [
        "import pandas as pd\n",
        "from convokit import Classifier, Corpus, Utterance, Speaker, download\n",
        "from convokit import TextParser, PolitenessStrategies\n",
        "from convokit.model import Utterance"
      ],
      "metadata": {
        "id": "bFEoWt9fv4pt"
      },
      "execution_count": 2,
      "outputs": []
    },
    {
      "cell_type": "markdown",
      "source": [
        "<div class=\"alert alert-block alert-success\">\n",
        "    \n",
        "## 1.2. Load the data <a class=\"anchor\" name=\"12\"></a>"
      ],
      "metadata": {
        "id": "5kN5kckfw2ac"
      }
    },
    {
      "cell_type": "code",
      "source": [
        "# Mount the Google Drive\n",
        "from google.colab import drive\n",
        "drive.mount('/content/drive')"
      ],
      "metadata": {
        "colab": {
          "base_uri": "https://localhost:8080/"
        },
        "id": "PDrx95CtxEN9",
        "outputId": "fe720901-9702-48d5-bfab-c2fcba7dc47b"
      },
      "execution_count": 3,
      "outputs": [
        {
          "output_type": "stream",
          "name": "stdout",
          "text": [
            "Drive already mounted at /content/drive; to attempt to forcibly remount, call drive.mount(\"/content/drive\", force_remount=True).\n"
          ]
        }
      ]
    },
    {
      "cell_type": "code",
      "source": [
        "# Downloading the wikipedia portion of annotated data\n",
        "wiki_corpus = Corpus(download(\"wikipedia-politeness-corpus\"))\n",
        "parser = TextParser(verbosity=1000)\n",
        "wiki_corpus = parser.transform(wiki_corpus)\n",
        "ps = PolitenessStrategies()\n",
        "wiki_corpus = ps.transform(wiki_corpus, markers=True)"
      ],
      "metadata": {
        "colab": {
          "base_uri": "https://localhost:8080/"
        },
        "id": "zxWUbNy36CWB",
        "outputId": "80de1fd7-2015-422f-ede3-754c83b57705"
      },
      "execution_count": 4,
      "outputs": [
        {
          "output_type": "stream",
          "name": "stdout",
          "text": [
            "Dataset already exists at /root/.convokit/downloads/wikipedia-politeness-corpus\n",
            "1000/4353 utterances processed\n",
            "2000/4353 utterances processed\n",
            "3000/4353 utterances processed\n",
            "4000/4353 utterances processed\n",
            "4353/4353 utterances processed\n"
          ]
        }
      ]
    },
    {
      "cell_type": "code",
      "source": [
        "\n",
        "# Load the forum dataset, not in utf-8 due to unknown character can't be parsed by utf-8\n",
        "# forum = pd.read_csv('/content/drive/MyDrive/Colab Notebooks/Research/stanfordMOOCForumPostsSet.txt', delimiter='\\t', encoding='ISO-8859-1')\n",
        "forum_1000 = pd.read_csv('/content/drive/MyDrive/Colab Notebooks/Research/stanfordMOOCForumPostsSet.txt', delimiter='\\t', encoding='ISO-8859-1', nrows=1000)"
      ],
      "metadata": {
        "id": "8_15SLP7w5ap"
      },
      "execution_count": 5,
      "outputs": []
    },
    {
      "cell_type": "markdown",
      "source": [
        "<div class=\"alert alert-block alert-success\">\n",
        "    \n",
        "## 1.3. Functions <a class=\"anchor\" name=\"13\"></a>"
      ],
      "metadata": {
        "id": "p7svhhOJyteC"
      }
    },
    {
      "cell_type": "code",
      "source": [
        "def create_corpus_from_dataframe(df, column_name):\n",
        "    \"\"\"\n",
        "    Creates a ConvoKit Corpus from a DataFrame column, including creating dummy Speakers.\n",
        "\n",
        "    Parameters:\n",
        "    - df: DataFrame containing the data.\n",
        "    - column_name: String, name of the column to process.\n",
        "\n",
        "    Returns:\n",
        "    - ConvoKit Corpus object.\n",
        "    \"\"\"\n",
        "    speakers = {str(i): Speaker(id=str(i)) for i in df.index}  # Create a dummy speaker for each entry\n",
        "    utterances = []\n",
        "    for index, row in df.iterrows():\n",
        "        speaker = speakers[str(index)]\n",
        "        utterances.append(Utterance(id=str(index), text=str(row[column_name]), speaker=speaker))\n",
        "    return Corpus(utterances=utterances)"
      ],
      "metadata": {
        "id": "k5y2GcYEyeHb"
      },
      "execution_count": 6,
      "outputs": []
    },
    {
      "cell_type": "code",
      "source": [
        "def apply_politeness_strategies(corpus):\n",
        "    \"\"\"\n",
        "    Applies text parsing and politeness strategies to the corpus.\n",
        "\n",
        "    Args:\n",
        "    corpus (convokit.Corpus): The corpus to process.\n",
        "\n",
        "    Returns:\n",
        "    convokit.Corpus: The processed corpus with politeness strategies.\n",
        "    \"\"\"\n",
        "    # Initialize and apply the text parser\n",
        "    parser = TextParser(verbosity=1000)\n",
        "    corpus = parser.transform(corpus)\n",
        "\n",
        "    # Apply politeness strategies\n",
        "    ps = PolitenessStrategies()\n",
        "    return ps.transform(corpus)\n"
      ],
      "metadata": {
        "id": "FfN_7lA61Ohk"
      },
      "execution_count": 7,
      "outputs": []
    },
    {
      "cell_type": "code",
      "source": [
        "def process_column(df, column_name):\n",
        "    \"\"\"\n",
        "    Process the specified column of a DataFrame to add politeness strategies.\n",
        "\n",
        "    Parameters:\n",
        "    - df: DataFrame containing the data.\n",
        "    - column_name: String, name of the column to process.\n",
        "\n",
        "    Returns:\n",
        "    - DataFrame with an additional column containing the processed text.\n",
        "    \"\"\"\n",
        "    corpus = create_corpus_from_dataframe(df, column_name)\n",
        "    corpus = apply_politeness_strategies(corpus)\n",
        "\n",
        "    # Retrieve politeness strategies and add them to the DataFrame\n",
        "    df['politeness_strategies'] = df.apply(lambda row: corpus.get_utterance(str(row.name)).meta['politeness_strategies'], axis=1)\n",
        "    return df"
      ],
      "metadata": {
        "id": "FAAsl2yS1S6z"
      },
      "execution_count": 8,
      "outputs": []
    },
    {
      "cell_type": "code",
      "source": [
        "def train_politeness_classifier(corpus):\n",
        "    \"\"\"\n",
        "    Trains a classifier on a corpus that has politeness strategies applied.\n",
        "\n",
        "    Args:\n",
        "    corpus (convokit.Corpus): The corpus to train on.\n",
        "\n",
        "    Returns:\n",
        "    convokit.Classifier: The trained classifier.\n",
        "    \"\"\"\n",
        "    classifier = Classifier(obj_type='utterance',\n",
        "                            pred_feats=['politeness_strategies'],\n",
        "                            labeller=lambda utt: utt.meta['Binary'] == 1)\n",
        "    classifier.fit(corpus)\n",
        "    return classifier"
      ],
      "metadata": {
        "id": "dl8rsdfsBC7F"
      },
      "execution_count": 9,
      "outputs": []
    },
    {
      "cell_type": "code",
      "source": [
        "def predict_politeness(df, text_column, classifier):\n",
        "    \"\"\"\n",
        "    Predicts politeness scores for the texts in a DataFrame using a trained classifier.\n",
        "\n",
        "    Args:\n",
        "    df (pd.DataFrame): DataFrame containing the text data.\n",
        "    text_column (str): The column in the DataFrame containing the text.\n",
        "    classifier (convokit.Classifier): A trained ConvoKit classifier.\n",
        "\n",
        "    Returns:\n",
        "    pd.DataFrame: The DataFrame with an added column for politeness scores.\n",
        "    \"\"\"\n",
        "    # Convert DataFrame to corpus and apply politeness strategies\n",
        "    corpus = create_corpus_from_dataframe(df, text_column)\n",
        "    corpus = apply_politeness_strategies(corpus)\n",
        "\n",
        "    # Predict using the classifier\n",
        "    corpus = classifier.transform(corpus)\n",
        "\n",
        "    # Extract predictions and attach to DataFrame\n",
        "    df['politeness_classifier'] = [utt.meta['prediction'] for utt in corpus.iter_utterances()]\n",
        "    return df"
      ],
      "metadata": {
        "id": "v7sp6WVuA0fJ"
      },
      "execution_count": 10,
      "outputs": []
    },
    {
      "cell_type": "markdown",
      "source": [
        "<div class=\"alert alert-block alert-success\">\n",
        "    \n",
        "## 1.4. Process the data frame to add politeness strategies extracted <a class=\"anchor\" name=\"14\"></a>"
      ],
      "metadata": {
        "id": "8zNWjqIW3fRL"
      }
    },
    {
      "cell_type": "code",
      "source": [
        "# Process the 'Text' column\n",
        "processed_data = process_column(forum_1000, 'Text')\n",
        "processed_data.info()\n",
        "# processed_data.head(5)"
      ],
      "metadata": {
        "colab": {
          "base_uri": "https://localhost:8080/"
        },
        "id": "CO8E7OGj1WVS",
        "outputId": "d6071f67-b3fe-413a-ba82-1e9d8a718fe8"
      },
      "execution_count": 11,
      "outputs": [
        {
          "output_type": "stream",
          "name": "stdout",
          "text": [
            "1000/1000 utterances processed\n",
            "<class 'pandas.core.frame.DataFrame'>\n",
            "RangeIndex: 1000 entries, 0 to 999\n",
            "Data columns (total 19 columns):\n",
            " #   Column                 Non-Null Count  Dtype  \n",
            "---  ------                 --------------  -----  \n",
            " 0   Text                   1000 non-null   object \n",
            " 1   Opinion(1/0)           1000 non-null   int64  \n",
            " 2   Question(1/0)          1000 non-null   int64  \n",
            " 3   Answer(1/0)            1000 non-null   int64  \n",
            " 4   Sentiment(1-7)         1000 non-null   float64\n",
            " 5   Confusion(1-7)         1000 non-null   float64\n",
            " 6   Urgency(1-7)           1000 non-null   float64\n",
            " 7   CourseType             1000 non-null   object \n",
            " 8   forum_post_id          1000 non-null   object \n",
            " 9   course_display_name    1000 non-null   object \n",
            " 10  forum_uid              1000 non-null   object \n",
            " 11  created_at             1000 non-null   object \n",
            " 12  post_type              1000 non-null   object \n",
            " 13  anonymous              1000 non-null   bool   \n",
            " 14  anonymous_to_peers     1000 non-null   bool   \n",
            " 15  up_count               1000 non-null   int64  \n",
            " 16  comment_thread_id      390 non-null    object \n",
            " 17  reads                  1000 non-null   int64  \n",
            " 18  politeness_strategies  1000 non-null   object \n",
            "dtypes: bool(2), float64(3), int64(5), object(9)\n",
            "memory usage: 134.9+ KB\n"
          ]
        }
      ]
    },
    {
      "cell_type": "code",
      "source": [
        "# Train the wiki\n",
        "classifier = train_politeness_classifier(wiki_corpus)\n",
        "\n",
        "# New DataFrame to predict either polite(1) or impolite(0)\n",
        "predicted_df = predict_politeness(processed_data, 'Text', classifier)\n",
        "predicted_df.head(5)"
      ],
      "metadata": {
        "colab": {
          "base_uri": "https://localhost:8080/",
          "height": 679
        },
        "id": "0apgoGK67qnQ",
        "outputId": "c947eabf-d335-4dc0-ac23-3aa85ebbb336"
      },
      "execution_count": 12,
      "outputs": [
        {
          "output_type": "stream",
          "name": "stdout",
          "text": [
            "Initialized default classification model (standard scaled logistic regression).\n",
            "1000/1000 utterances processed\n"
          ]
        },
        {
          "output_type": "execute_result",
          "data": {
            "text/plain": [
              "                                                Text  Opinion(1/0)  \\\n",
              "0  Interesting! How often we say those things to ...             1   \n",
              "1  What is \\Algebra as a Math Game\\\" or are you j...             0   \n",
              "2  I like the idea of my kids principal who says ...             1   \n",
              "3  From their responses, it seems the students re...             1   \n",
              "4  The boys loved math, because \\there is freedom...             1   \n",
              "\n",
              "   Question(1/0)  Answer(1/0)  Sentiment(1-7)  Confusion(1-7)  Urgency(1-7)  \\\n",
              "0              0            0             6.5             2.0           1.5   \n",
              "1              1            0             4.0             5.0           3.5   \n",
              "2              0            0             5.5             3.0           2.5   \n",
              "3              0            0             6.0             3.0           2.5   \n",
              "4              0            0             7.0             2.0           3.0   \n",
              "\n",
              "  CourseType             forum_post_id                   course_display_name  \\\n",
              "0  Education  5225177f2c501f0a00000015  Education/EDUC115N/How_to_Learn_Math   \n",
              "1  Education  5207d0e9935dfc0e0000005e  Education/EDUC115N/How_to_Learn_Math   \n",
              "2  Education  52052c82d01fec0a00000071  Education/EDUC115N/How_to_Learn_Math   \n",
              "3  Education  5240a45e067ebf1200000008  Education/EDUC115N/How_to_Learn_Math   \n",
              "4  Education  5212c5e2dd10251500000062  Education/EDUC115N/How_to_Learn_Math   \n",
              "\n",
              "                          forum_uid       created_at      post_type  \\\n",
              "0  30CADB93E6DE4711193D7BD05F2AE95C   9/2/2013 22:55        Comment   \n",
              "1  37D8FAEE7D0B94B6CFC57D98FD3D0BA5  8/11/2013 17:59        Comment   \n",
              "2  CC11480215042B3EB6E5905EAB13B733   8/9/2013 17:53        Comment   \n",
              "3  C717F838D10E8256D7C88B33C43623F1  9/23/2013 20:28  CommentThread   \n",
              "4  F83887D68EA48964687C6441782CDD0E   8/20/2013 1:26  CommentThread   \n",
              "\n",
              "   anonymous  anonymous_to_peers  up_count         comment_thread_id  reads  \\\n",
              "0      False               False         0  5221a8262cfae31200000001     41   \n",
              "1      False               False         0  520663839df35b0a00000043     55   \n",
              "2      False               False         0  51e59415e339d716000001a6     25   \n",
              "3      False               False         0                       NaN      0   \n",
              "4      False               False         0                       NaN      3   \n",
              "\n",
              "                               politeness_strategies  politeness_classifier  \n",
              "0  {'feature_politeness_==Please==': 0, 'feature_...                      0  \n",
              "1  {'feature_politeness_==Please==': 0, 'feature_...                      0  \n",
              "2  {'feature_politeness_==Please==': 0, 'feature_...                      0  \n",
              "3  {'feature_politeness_==Please==': 0, 'feature_...                      0  \n",
              "4  {'feature_politeness_==Please==': 0, 'feature_...                      0  "
            ],
            "text/html": [
              "\n",
              "  <div id=\"df-33f5a3e7-437a-4664-bc2d-2a29bba3d921\" class=\"colab-df-container\">\n",
              "    <div>\n",
              "<style scoped>\n",
              "    .dataframe tbody tr th:only-of-type {\n",
              "        vertical-align: middle;\n",
              "    }\n",
              "\n",
              "    .dataframe tbody tr th {\n",
              "        vertical-align: top;\n",
              "    }\n",
              "\n",
              "    .dataframe thead th {\n",
              "        text-align: right;\n",
              "    }\n",
              "</style>\n",
              "<table border=\"1\" class=\"dataframe\">\n",
              "  <thead>\n",
              "    <tr style=\"text-align: right;\">\n",
              "      <th></th>\n",
              "      <th>Text</th>\n",
              "      <th>Opinion(1/0)</th>\n",
              "      <th>Question(1/0)</th>\n",
              "      <th>Answer(1/0)</th>\n",
              "      <th>Sentiment(1-7)</th>\n",
              "      <th>Confusion(1-7)</th>\n",
              "      <th>Urgency(1-7)</th>\n",
              "      <th>CourseType</th>\n",
              "      <th>forum_post_id</th>\n",
              "      <th>course_display_name</th>\n",
              "      <th>forum_uid</th>\n",
              "      <th>created_at</th>\n",
              "      <th>post_type</th>\n",
              "      <th>anonymous</th>\n",
              "      <th>anonymous_to_peers</th>\n",
              "      <th>up_count</th>\n",
              "      <th>comment_thread_id</th>\n",
              "      <th>reads</th>\n",
              "      <th>politeness_strategies</th>\n",
              "      <th>politeness_classifier</th>\n",
              "    </tr>\n",
              "  </thead>\n",
              "  <tbody>\n",
              "    <tr>\n",
              "      <th>0</th>\n",
              "      <td>Interesting! How often we say those things to ...</td>\n",
              "      <td>1</td>\n",
              "      <td>0</td>\n",
              "      <td>0</td>\n",
              "      <td>6.5</td>\n",
              "      <td>2.0</td>\n",
              "      <td>1.5</td>\n",
              "      <td>Education</td>\n",
              "      <td>5225177f2c501f0a00000015</td>\n",
              "      <td>Education/EDUC115N/How_to_Learn_Math</td>\n",
              "      <td>30CADB93E6DE4711193D7BD05F2AE95C</td>\n",
              "      <td>9/2/2013 22:55</td>\n",
              "      <td>Comment</td>\n",
              "      <td>False</td>\n",
              "      <td>False</td>\n",
              "      <td>0</td>\n",
              "      <td>5221a8262cfae31200000001</td>\n",
              "      <td>41</td>\n",
              "      <td>{'feature_politeness_==Please==': 0, 'feature_...</td>\n",
              "      <td>0</td>\n",
              "    </tr>\n",
              "    <tr>\n",
              "      <th>1</th>\n",
              "      <td>What is \\Algebra as a Math Game\\\" or are you j...</td>\n",
              "      <td>0</td>\n",
              "      <td>1</td>\n",
              "      <td>0</td>\n",
              "      <td>4.0</td>\n",
              "      <td>5.0</td>\n",
              "      <td>3.5</td>\n",
              "      <td>Education</td>\n",
              "      <td>5207d0e9935dfc0e0000005e</td>\n",
              "      <td>Education/EDUC115N/How_to_Learn_Math</td>\n",
              "      <td>37D8FAEE7D0B94B6CFC57D98FD3D0BA5</td>\n",
              "      <td>8/11/2013 17:59</td>\n",
              "      <td>Comment</td>\n",
              "      <td>False</td>\n",
              "      <td>False</td>\n",
              "      <td>0</td>\n",
              "      <td>520663839df35b0a00000043</td>\n",
              "      <td>55</td>\n",
              "      <td>{'feature_politeness_==Please==': 0, 'feature_...</td>\n",
              "      <td>0</td>\n",
              "    </tr>\n",
              "    <tr>\n",
              "      <th>2</th>\n",
              "      <td>I like the idea of my kids principal who says ...</td>\n",
              "      <td>1</td>\n",
              "      <td>0</td>\n",
              "      <td>0</td>\n",
              "      <td>5.5</td>\n",
              "      <td>3.0</td>\n",
              "      <td>2.5</td>\n",
              "      <td>Education</td>\n",
              "      <td>52052c82d01fec0a00000071</td>\n",
              "      <td>Education/EDUC115N/How_to_Learn_Math</td>\n",
              "      <td>CC11480215042B3EB6E5905EAB13B733</td>\n",
              "      <td>8/9/2013 17:53</td>\n",
              "      <td>Comment</td>\n",
              "      <td>False</td>\n",
              "      <td>False</td>\n",
              "      <td>0</td>\n",
              "      <td>51e59415e339d716000001a6</td>\n",
              "      <td>25</td>\n",
              "      <td>{'feature_politeness_==Please==': 0, 'feature_...</td>\n",
              "      <td>0</td>\n",
              "    </tr>\n",
              "    <tr>\n",
              "      <th>3</th>\n",
              "      <td>From their responses, it seems the students re...</td>\n",
              "      <td>1</td>\n",
              "      <td>0</td>\n",
              "      <td>0</td>\n",
              "      <td>6.0</td>\n",
              "      <td>3.0</td>\n",
              "      <td>2.5</td>\n",
              "      <td>Education</td>\n",
              "      <td>5240a45e067ebf1200000008</td>\n",
              "      <td>Education/EDUC115N/How_to_Learn_Math</td>\n",
              "      <td>C717F838D10E8256D7C88B33C43623F1</td>\n",
              "      <td>9/23/2013 20:28</td>\n",
              "      <td>CommentThread</td>\n",
              "      <td>False</td>\n",
              "      <td>False</td>\n",
              "      <td>0</td>\n",
              "      <td>NaN</td>\n",
              "      <td>0</td>\n",
              "      <td>{'feature_politeness_==Please==': 0, 'feature_...</td>\n",
              "      <td>0</td>\n",
              "    </tr>\n",
              "    <tr>\n",
              "      <th>4</th>\n",
              "      <td>The boys loved math, because \\there is freedom...</td>\n",
              "      <td>1</td>\n",
              "      <td>0</td>\n",
              "      <td>0</td>\n",
              "      <td>7.0</td>\n",
              "      <td>2.0</td>\n",
              "      <td>3.0</td>\n",
              "      <td>Education</td>\n",
              "      <td>5212c5e2dd10251500000062</td>\n",
              "      <td>Education/EDUC115N/How_to_Learn_Math</td>\n",
              "      <td>F83887D68EA48964687C6441782CDD0E</td>\n",
              "      <td>8/20/2013 1:26</td>\n",
              "      <td>CommentThread</td>\n",
              "      <td>False</td>\n",
              "      <td>False</td>\n",
              "      <td>0</td>\n",
              "      <td>NaN</td>\n",
              "      <td>3</td>\n",
              "      <td>{'feature_politeness_==Please==': 0, 'feature_...</td>\n",
              "      <td>0</td>\n",
              "    </tr>\n",
              "  </tbody>\n",
              "</table>\n",
              "</div>\n",
              "    <div class=\"colab-df-buttons\">\n",
              "\n",
              "  <div class=\"colab-df-container\">\n",
              "    <button class=\"colab-df-convert\" onclick=\"convertToInteractive('df-33f5a3e7-437a-4664-bc2d-2a29bba3d921')\"\n",
              "            title=\"Convert this dataframe to an interactive table.\"\n",
              "            style=\"display:none;\">\n",
              "\n",
              "  <svg xmlns=\"http://www.w3.org/2000/svg\" height=\"24px\" viewBox=\"0 -960 960 960\">\n",
              "    <path d=\"M120-120v-720h720v720H120Zm60-500h600v-160H180v160Zm220 220h160v-160H400v160Zm0 220h160v-160H400v160ZM180-400h160v-160H180v160Zm440 0h160v-160H620v160ZM180-180h160v-160H180v160Zm440 0h160v-160H620v160Z\"/>\n",
              "  </svg>\n",
              "    </button>\n",
              "\n",
              "  <style>\n",
              "    .colab-df-container {\n",
              "      display:flex;\n",
              "      gap: 12px;\n",
              "    }\n",
              "\n",
              "    .colab-df-convert {\n",
              "      background-color: #E8F0FE;\n",
              "      border: none;\n",
              "      border-radius: 50%;\n",
              "      cursor: pointer;\n",
              "      display: none;\n",
              "      fill: #1967D2;\n",
              "      height: 32px;\n",
              "      padding: 0 0 0 0;\n",
              "      width: 32px;\n",
              "    }\n",
              "\n",
              "    .colab-df-convert:hover {\n",
              "      background-color: #E2EBFA;\n",
              "      box-shadow: 0px 1px 2px rgba(60, 64, 67, 0.3), 0px 1px 3px 1px rgba(60, 64, 67, 0.15);\n",
              "      fill: #174EA6;\n",
              "    }\n",
              "\n",
              "    .colab-df-buttons div {\n",
              "      margin-bottom: 4px;\n",
              "    }\n",
              "\n",
              "    [theme=dark] .colab-df-convert {\n",
              "      background-color: #3B4455;\n",
              "      fill: #D2E3FC;\n",
              "    }\n",
              "\n",
              "    [theme=dark] .colab-df-convert:hover {\n",
              "      background-color: #434B5C;\n",
              "      box-shadow: 0px 1px 3px 1px rgba(0, 0, 0, 0.15);\n",
              "      filter: drop-shadow(0px 1px 2px rgba(0, 0, 0, 0.3));\n",
              "      fill: #FFFFFF;\n",
              "    }\n",
              "  </style>\n",
              "\n",
              "    <script>\n",
              "      const buttonEl =\n",
              "        document.querySelector('#df-33f5a3e7-437a-4664-bc2d-2a29bba3d921 button.colab-df-convert');\n",
              "      buttonEl.style.display =\n",
              "        google.colab.kernel.accessAllowed ? 'block' : 'none';\n",
              "\n",
              "      async function convertToInteractive(key) {\n",
              "        const element = document.querySelector('#df-33f5a3e7-437a-4664-bc2d-2a29bba3d921');\n",
              "        const dataTable =\n",
              "          await google.colab.kernel.invokeFunction('convertToInteractive',\n",
              "                                                    [key], {});\n",
              "        if (!dataTable) return;\n",
              "\n",
              "        const docLinkHtml = 'Like what you see? Visit the ' +\n",
              "          '<a target=\"_blank\" href=https://colab.research.google.com/notebooks/data_table.ipynb>data table notebook</a>'\n",
              "          + ' to learn more about interactive tables.';\n",
              "        element.innerHTML = '';\n",
              "        dataTable['output_type'] = 'display_data';\n",
              "        await google.colab.output.renderOutput(dataTable, element);\n",
              "        const docLink = document.createElement('div');\n",
              "        docLink.innerHTML = docLinkHtml;\n",
              "        element.appendChild(docLink);\n",
              "      }\n",
              "    </script>\n",
              "  </div>\n",
              "\n",
              "\n",
              "<div id=\"df-6d0e7b87-32b0-4d61-a9d5-ef6916407be2\">\n",
              "  <button class=\"colab-df-quickchart\" onclick=\"quickchart('df-6d0e7b87-32b0-4d61-a9d5-ef6916407be2')\"\n",
              "            title=\"Suggest charts\"\n",
              "            style=\"display:none;\">\n",
              "\n",
              "<svg xmlns=\"http://www.w3.org/2000/svg\" height=\"24px\"viewBox=\"0 0 24 24\"\n",
              "     width=\"24px\">\n",
              "    <g>\n",
              "        <path d=\"M19 3H5c-1.1 0-2 .9-2 2v14c0 1.1.9 2 2 2h14c1.1 0 2-.9 2-2V5c0-1.1-.9-2-2-2zM9 17H7v-7h2v7zm4 0h-2V7h2v10zm4 0h-2v-4h2v4z\"/>\n",
              "    </g>\n",
              "</svg>\n",
              "  </button>\n",
              "\n",
              "<style>\n",
              "  .colab-df-quickchart {\n",
              "      --bg-color: #E8F0FE;\n",
              "      --fill-color: #1967D2;\n",
              "      --hover-bg-color: #E2EBFA;\n",
              "      --hover-fill-color: #174EA6;\n",
              "      --disabled-fill-color: #AAA;\n",
              "      --disabled-bg-color: #DDD;\n",
              "  }\n",
              "\n",
              "  [theme=dark] .colab-df-quickchart {\n",
              "      --bg-color: #3B4455;\n",
              "      --fill-color: #D2E3FC;\n",
              "      --hover-bg-color: #434B5C;\n",
              "      --hover-fill-color: #FFFFFF;\n",
              "      --disabled-bg-color: #3B4455;\n",
              "      --disabled-fill-color: #666;\n",
              "  }\n",
              "\n",
              "  .colab-df-quickchart {\n",
              "    background-color: var(--bg-color);\n",
              "    border: none;\n",
              "    border-radius: 50%;\n",
              "    cursor: pointer;\n",
              "    display: none;\n",
              "    fill: var(--fill-color);\n",
              "    height: 32px;\n",
              "    padding: 0;\n",
              "    width: 32px;\n",
              "  }\n",
              "\n",
              "  .colab-df-quickchart:hover {\n",
              "    background-color: var(--hover-bg-color);\n",
              "    box-shadow: 0 1px 2px rgba(60, 64, 67, 0.3), 0 1px 3px 1px rgba(60, 64, 67, 0.15);\n",
              "    fill: var(--button-hover-fill-color);\n",
              "  }\n",
              "\n",
              "  .colab-df-quickchart-complete:disabled,\n",
              "  .colab-df-quickchart-complete:disabled:hover {\n",
              "    background-color: var(--disabled-bg-color);\n",
              "    fill: var(--disabled-fill-color);\n",
              "    box-shadow: none;\n",
              "  }\n",
              "\n",
              "  .colab-df-spinner {\n",
              "    border: 2px solid var(--fill-color);\n",
              "    border-color: transparent;\n",
              "    border-bottom-color: var(--fill-color);\n",
              "    animation:\n",
              "      spin 1s steps(1) infinite;\n",
              "  }\n",
              "\n",
              "  @keyframes spin {\n",
              "    0% {\n",
              "      border-color: transparent;\n",
              "      border-bottom-color: var(--fill-color);\n",
              "      border-left-color: var(--fill-color);\n",
              "    }\n",
              "    20% {\n",
              "      border-color: transparent;\n",
              "      border-left-color: var(--fill-color);\n",
              "      border-top-color: var(--fill-color);\n",
              "    }\n",
              "    30% {\n",
              "      border-color: transparent;\n",
              "      border-left-color: var(--fill-color);\n",
              "      border-top-color: var(--fill-color);\n",
              "      border-right-color: var(--fill-color);\n",
              "    }\n",
              "    40% {\n",
              "      border-color: transparent;\n",
              "      border-right-color: var(--fill-color);\n",
              "      border-top-color: var(--fill-color);\n",
              "    }\n",
              "    60% {\n",
              "      border-color: transparent;\n",
              "      border-right-color: var(--fill-color);\n",
              "    }\n",
              "    80% {\n",
              "      border-color: transparent;\n",
              "      border-right-color: var(--fill-color);\n",
              "      border-bottom-color: var(--fill-color);\n",
              "    }\n",
              "    90% {\n",
              "      border-color: transparent;\n",
              "      border-bottom-color: var(--fill-color);\n",
              "    }\n",
              "  }\n",
              "</style>\n",
              "\n",
              "  <script>\n",
              "    async function quickchart(key) {\n",
              "      const quickchartButtonEl =\n",
              "        document.querySelector('#' + key + ' button');\n",
              "      quickchartButtonEl.disabled = true;  // To prevent multiple clicks.\n",
              "      quickchartButtonEl.classList.add('colab-df-spinner');\n",
              "      try {\n",
              "        const charts = await google.colab.kernel.invokeFunction(\n",
              "            'suggestCharts', [key], {});\n",
              "      } catch (error) {\n",
              "        console.error('Error during call to suggestCharts:', error);\n",
              "      }\n",
              "      quickchartButtonEl.classList.remove('colab-df-spinner');\n",
              "      quickchartButtonEl.classList.add('colab-df-quickchart-complete');\n",
              "    }\n",
              "    (() => {\n",
              "      let quickchartButtonEl =\n",
              "        document.querySelector('#df-6d0e7b87-32b0-4d61-a9d5-ef6916407be2 button');\n",
              "      quickchartButtonEl.style.display =\n",
              "        google.colab.kernel.accessAllowed ? 'block' : 'none';\n",
              "    })();\n",
              "  </script>\n",
              "</div>\n",
              "\n",
              "    </div>\n",
              "  </div>\n"
            ],
            "application/vnd.google.colaboratory.intrinsic+json": {
              "type": "dataframe",
              "variable_name": "predicted_df",
              "summary": "{\n  \"name\": \"predicted_df\",\n  \"rows\": 1000,\n  \"fields\": [\n    {\n      \"column\": \"Text\",\n      \"properties\": {\n        \"dtype\": \"string\",\n        \"num_unique_values\": 1000,\n        \"samples\": [\n          \"I agree Sir Ken is an interesting speaker and his talks are well worth listening to.  I have used the RSA 11 minute video of his talk in several staff workshops and with some of my more mature learners to get them thinking about the process of teaching and how they approach learning.\",\n          \"Dot patterns are a nice way to begin because they are visual. I think people are less likely to seize up with anxiety when given an image vs. a naked number problem. They are designed so that people won't just count by 1s. They highlight how different people see the mathematics differently. And they can serve as an example of how numbers can be broken apart in different ways (5+5 vs 3+2+3+2).\",\n          \"- parents and other adults in their lives\\u0007- books\\u0007- teachers, both maths teachers and others\\u0007- peers\\u0007\\u0007I think it's also conveyed through the atmosphere in the classroom. I recall Trude Fosse's doctoral work showing that pre-school kids already have an ide\"\n        ],\n        \"semantic_type\": \"\",\n        \"description\": \"\"\n      }\n    },\n    {\n      \"column\": \"Opinion(1/0)\",\n      \"properties\": {\n        \"dtype\": \"number\",\n        \"std\": 0,\n        \"min\": 0,\n        \"max\": 1,\n        \"num_unique_values\": 2,\n        \"samples\": [\n          0,\n          1\n        ],\n        \"semantic_type\": \"\",\n        \"description\": \"\"\n      }\n    },\n    {\n      \"column\": \"Question(1/0)\",\n      \"properties\": {\n        \"dtype\": \"number\",\n        \"std\": 0,\n        \"min\": 0,\n        \"max\": 1,\n        \"num_unique_values\": 2,\n        \"samples\": [\n          1,\n          0\n        ],\n        \"semantic_type\": \"\",\n        \"description\": \"\"\n      }\n    },\n    {\n      \"column\": \"Answer(1/0)\",\n      \"properties\": {\n        \"dtype\": \"number\",\n        \"std\": 0,\n        \"min\": 0,\n        \"max\": 1,\n        \"num_unique_values\": 2,\n        \"samples\": [\n          1,\n          0\n        ],\n        \"semantic_type\": \"\",\n        \"description\": \"\"\n      }\n    },\n    {\n      \"column\": \"Sentiment(1-7)\",\n      \"properties\": {\n        \"dtype\": \"number\",\n        \"std\": 0.8932513072466772,\n        \"min\": 2.0,\n        \"max\": 7.0,\n        \"num_unique_values\": 11,\n        \"samples\": [\n          3.0,\n          6.5\n        ],\n        \"semantic_type\": \"\",\n        \"description\": \"\"\n      }\n    },\n    {\n      \"column\": \"Confusion(1-7)\",\n      \"properties\": {\n        \"dtype\": \"number\",\n        \"std\": 0.5857466168055084,\n        \"min\": 1.5,\n        \"max\": 6.0,\n        \"num_unique_values\": 10,\n        \"samples\": [\n          4.5,\n          5.0\n        ],\n        \"semantic_type\": \"\",\n        \"description\": \"\"\n      }\n    },\n    {\n      \"column\": \"Urgency(1-7)\",\n      \"properties\": {\n        \"dtype\": \"number\",\n        \"std\": 0.8403274065209049,\n        \"min\": 1.0,\n        \"max\": 6.5,\n        \"num_unique_values\": 12,\n        \"samples\": [\n          4.0,\n          6.5\n        ],\n        \"semantic_type\": \"\",\n        \"description\": \"\"\n      }\n    },\n    {\n      \"column\": \"CourseType\",\n      \"properties\": {\n        \"dtype\": \"category\",\n        \"num_unique_values\": 1,\n        \"samples\": [\n          \"Education\"\n        ],\n        \"semantic_type\": \"\",\n        \"description\": \"\"\n      }\n    },\n    {\n      \"column\": \"forum_post_id\",\n      \"properties\": {\n        \"dtype\": \"string\",\n        \"num_unique_values\": 1000,\n        \"samples\": [\n          \"51fe6d59f09ff91600000020\"\n        ],\n        \"semantic_type\": \"\",\n        \"description\": \"\"\n      }\n    },\n    {\n      \"column\": \"course_display_name\",\n      \"properties\": {\n        \"dtype\": \"category\",\n        \"num_unique_values\": 1,\n        \"samples\": [\n          \"Education/EDUC115N/How_to_Learn_Math\"\n        ],\n        \"semantic_type\": \"\",\n        \"description\": \"\"\n      }\n    },\n    {\n      \"column\": \"forum_uid\",\n      \"properties\": {\n        \"dtype\": \"string\",\n        \"num_unique_values\": 846,\n        \"samples\": [\n          \"4677CF5BE263648DFBFA310B0619A8DC\"\n        ],\n        \"semantic_type\": \"\",\n        \"description\": \"\"\n      }\n    },\n    {\n      \"column\": \"created_at\",\n      \"properties\": {\n        \"dtype\": \"object\",\n        \"num_unique_values\": 993,\n        \"samples\": [\n          \"8/26/2013 17:37\"\n        ],\n        \"semantic_type\": \"\",\n        \"description\": \"\"\n      }\n    },\n    {\n      \"column\": \"post_type\",\n      \"properties\": {\n        \"dtype\": \"category\",\n        \"num_unique_values\": 2,\n        \"samples\": [\n          \"CommentThread\"\n        ],\n        \"semantic_type\": \"\",\n        \"description\": \"\"\n      }\n    },\n    {\n      \"column\": \"anonymous\",\n      \"properties\": {\n        \"dtype\": \"boolean\",\n        \"num_unique_values\": 2,\n        \"samples\": [\n          true\n        ],\n        \"semantic_type\": \"\",\n        \"description\": \"\"\n      }\n    },\n    {\n      \"column\": \"anonymous_to_peers\",\n      \"properties\": {\n        \"dtype\": \"boolean\",\n        \"num_unique_values\": 1,\n        \"samples\": [\n          false\n        ],\n        \"semantic_type\": \"\",\n        \"description\": \"\"\n      }\n    },\n    {\n      \"column\": \"up_count\",\n      \"properties\": {\n        \"dtype\": \"number\",\n        \"std\": 0,\n        \"min\": 0,\n        \"max\": 20,\n        \"num_unique_values\": 9,\n        \"samples\": [\n          12\n        ],\n        \"semantic_type\": \"\",\n        \"description\": \"\"\n      }\n    },\n    {\n      \"column\": \"comment_thread_id\",\n      \"properties\": {\n        \"dtype\": \"category\",\n        \"num_unique_values\": 335,\n        \"samples\": [\n          \"521f660ab7d1890e00000012\"\n        ],\n        \"semantic_type\": \"\",\n        \"description\": \"\"\n      }\n    },\n    {\n      \"column\": \"reads\",\n      \"properties\": {\n        \"dtype\": \"number\",\n        \"std\": 1406,\n        \"min\": 0,\n        \"max\": 9313,\n        \"num_unique_values\": 126,\n        \"samples\": [\n          99\n        ],\n        \"semantic_type\": \"\",\n        \"description\": \"\"\n      }\n    },\n    {\n      \"column\": \"politeness_strategies\",\n      \"properties\": {\n        \"dtype\": \"object\",\n        \"semantic_type\": \"\",\n        \"description\": \"\"\n      }\n    },\n    {\n      \"column\": \"politeness_classifier\",\n      \"properties\": {\n        \"dtype\": \"number\",\n        \"std\": 0,\n        \"min\": 0,\n        \"max\": 1,\n        \"num_unique_values\": 2,\n        \"samples\": [\n          1\n        ],\n        \"semantic_type\": \"\",\n        \"description\": \"\"\n      }\n    }\n  ]\n}"
            }
          },
          "metadata": {},
          "execution_count": 12
        }
      ]
    },
    {
      "cell_type": "code",
      "source": [],
      "metadata": {
        "id": "hDZh9qfzBgnI"
      },
      "execution_count": 12,
      "outputs": []
    }
  ],
  "metadata": {
    "colab": {
      "provenance": [],
      "collapsed_sections": [
        "uZtKiD2DvzVH",
        "5kN5kckfw2ac",
        "p7svhhOJyteC"
      ]
    },
    "kernelspec": {
      "display_name": "Python 3",
      "name": "python3"
    },
    "language_info": {
      "codemirror_mode": {
        "name": "ipython",
        "version": 3
      },
      "file_extension": ".py",
      "mimetype": "text/x-python",
      "name": "python",
      "nbconvert_exporter": "python",
      "pygments_lexer": "ipython3",
      "version": "3.8.8"
    },
    "toc": {
      "base_numbering": 1,
      "nav_menu": {},
      "number_sections": true,
      "sideBar": true,
      "skip_h1_title": false,
      "title_cell": "Table of Contents",
      "title_sidebar": "Contents",
      "toc_cell": false,
      "toc_position": {},
      "toc_section_display": true,
      "toc_window_display": true
    }
  },
  "nbformat": 4,
  "nbformat_minor": 0
}